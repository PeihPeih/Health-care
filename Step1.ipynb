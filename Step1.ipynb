{
 "cells": [
  {
   "cell_type": "markdown",
   "metadata": {},
   "source": [
    " # Step 1: Xem các thông tin của dữ liệu và vẽ biểu đồ để hiểu hơn về dữ liệu"
   ]
  },
  {
   "cell_type": "code",
   "execution_count": 1,
   "metadata": {},
   "outputs": [],
   "source": [
    "import numpy as np\n",
    "import pandas as pd\n",
    "import matplotlib.pyplot as plt\n",
    "import seaborn as sns"
   ]
  },
  {
   "cell_type": "code",
   "execution_count": 2,
   "metadata": {},
   "outputs": [
    {
     "data": {
      "text/html": [
       "<div>\n",
       "<style scoped>\n",
       "    .dataframe tbody tr th:only-of-type {\n",
       "        vertical-align: middle;\n",
       "    }\n",
       "\n",
       "    .dataframe tbody tr th {\n",
       "        vertical-align: top;\n",
       "    }\n",
       "\n",
       "    .dataframe thead th {\n",
       "        text-align: right;\n",
       "    }\n",
       "</style>\n",
       "<table border=\"1\" class=\"dataframe\">\n",
       "  <thead>\n",
       "    <tr style=\"text-align: right;\">\n",
       "      <th></th>\n",
       "      <th>Name</th>\n",
       "      <th>Age</th>\n",
       "      <th>Gender</th>\n",
       "      <th>Blood Type</th>\n",
       "      <th>Medical Condition</th>\n",
       "      <th>Date of Admission</th>\n",
       "      <th>Doctor</th>\n",
       "      <th>Hospital</th>\n",
       "      <th>Insurance Provider</th>\n",
       "      <th>Billing Amount</th>\n",
       "      <th>Room Number</th>\n",
       "      <th>Admission Type</th>\n",
       "      <th>Discharge Date</th>\n",
       "      <th>Medication</th>\n",
       "      <th>Test Results</th>\n",
       "    </tr>\n",
       "  </thead>\n",
       "  <tbody>\n",
       "    <tr>\n",
       "      <th>0</th>\n",
       "      <td>Tiffany Ramirez</td>\n",
       "      <td>81</td>\n",
       "      <td>Female</td>\n",
       "      <td>O-</td>\n",
       "      <td>Diabetes</td>\n",
       "      <td>2022-11-17</td>\n",
       "      <td>Patrick Parker</td>\n",
       "      <td>Wallace-Hamilton</td>\n",
       "      <td>Medicare</td>\n",
       "      <td>37490.983364</td>\n",
       "      <td>146</td>\n",
       "      <td>Elective</td>\n",
       "      <td>2022-12-01</td>\n",
       "      <td>Aspirin</td>\n",
       "      <td>Inconclusive</td>\n",
       "    </tr>\n",
       "    <tr>\n",
       "      <th>1</th>\n",
       "      <td>Ruben Burns</td>\n",
       "      <td>35</td>\n",
       "      <td>Male</td>\n",
       "      <td>O+</td>\n",
       "      <td>Asthma</td>\n",
       "      <td>2023-06-01</td>\n",
       "      <td>Diane Jackson</td>\n",
       "      <td>Burke, Griffin and Cooper</td>\n",
       "      <td>UnitedHealthcare</td>\n",
       "      <td>47304.064845</td>\n",
       "      <td>404</td>\n",
       "      <td>Emergency</td>\n",
       "      <td>2023-06-15</td>\n",
       "      <td>Lipitor</td>\n",
       "      <td>Normal</td>\n",
       "    </tr>\n",
       "    <tr>\n",
       "      <th>2</th>\n",
       "      <td>Chad Byrd</td>\n",
       "      <td>61</td>\n",
       "      <td>Male</td>\n",
       "      <td>B-</td>\n",
       "      <td>Obesity</td>\n",
       "      <td>2019-01-09</td>\n",
       "      <td>Paul Baker</td>\n",
       "      <td>Walton LLC</td>\n",
       "      <td>Medicare</td>\n",
       "      <td>36874.896997</td>\n",
       "      <td>292</td>\n",
       "      <td>Emergency</td>\n",
       "      <td>2019-02-08</td>\n",
       "      <td>Lipitor</td>\n",
       "      <td>Normal</td>\n",
       "    </tr>\n",
       "    <tr>\n",
       "      <th>3</th>\n",
       "      <td>Antonio Frederick</td>\n",
       "      <td>49</td>\n",
       "      <td>Male</td>\n",
       "      <td>B-</td>\n",
       "      <td>Asthma</td>\n",
       "      <td>2020-05-02</td>\n",
       "      <td>Brian Chandler</td>\n",
       "      <td>Garcia Ltd</td>\n",
       "      <td>Medicare</td>\n",
       "      <td>23303.322092</td>\n",
       "      <td>480</td>\n",
       "      <td>Urgent</td>\n",
       "      <td>2020-05-03</td>\n",
       "      <td>Penicillin</td>\n",
       "      <td>Abnormal</td>\n",
       "    </tr>\n",
       "    <tr>\n",
       "      <th>4</th>\n",
       "      <td>Mrs. Brandy Flowers</td>\n",
       "      <td>51</td>\n",
       "      <td>Male</td>\n",
       "      <td>O-</td>\n",
       "      <td>Arthritis</td>\n",
       "      <td>2021-07-09</td>\n",
       "      <td>Dustin Griffin</td>\n",
       "      <td>Jones, Brown and Murray</td>\n",
       "      <td>UnitedHealthcare</td>\n",
       "      <td>18086.344184</td>\n",
       "      <td>477</td>\n",
       "      <td>Urgent</td>\n",
       "      <td>2021-08-02</td>\n",
       "      <td>Paracetamol</td>\n",
       "      <td>Normal</td>\n",
       "    </tr>\n",
       "  </tbody>\n",
       "</table>\n",
       "</div>"
      ],
      "text/plain": [
       "                  Name  Age  Gender Blood Type Medical Condition  \\\n",
       "0      Tiffany Ramirez   81  Female         O-          Diabetes   \n",
       "1          Ruben Burns   35    Male         O+            Asthma   \n",
       "2            Chad Byrd   61    Male         B-           Obesity   \n",
       "3    Antonio Frederick   49    Male         B-            Asthma   \n",
       "4  Mrs. Brandy Flowers   51    Male         O-         Arthritis   \n",
       "\n",
       "  Date of Admission          Doctor                   Hospital  \\\n",
       "0        2022-11-17  Patrick Parker           Wallace-Hamilton   \n",
       "1        2023-06-01   Diane Jackson  Burke, Griffin and Cooper   \n",
       "2        2019-01-09      Paul Baker                 Walton LLC   \n",
       "3        2020-05-02  Brian Chandler                 Garcia Ltd   \n",
       "4        2021-07-09  Dustin Griffin    Jones, Brown and Murray   \n",
       "\n",
       "  Insurance Provider  Billing Amount  Room Number Admission Type  \\\n",
       "0           Medicare    37490.983364          146       Elective   \n",
       "1   UnitedHealthcare    47304.064845          404      Emergency   \n",
       "2           Medicare    36874.896997          292      Emergency   \n",
       "3           Medicare    23303.322092          480         Urgent   \n",
       "4   UnitedHealthcare    18086.344184          477         Urgent   \n",
       "\n",
       "  Discharge Date   Medication  Test Results  \n",
       "0     2022-12-01      Aspirin  Inconclusive  \n",
       "1     2023-06-15      Lipitor        Normal  \n",
       "2     2019-02-08      Lipitor        Normal  \n",
       "3     2020-05-03   Penicillin      Abnormal  \n",
       "4     2021-08-02  Paracetamol        Normal  "
      ]
     },
     "execution_count": 2,
     "metadata": {},
     "output_type": "execute_result"
    }
   ],
   "source": [
    "# Read data from CSV\n",
    "df = pd.read_csv('healthcare_dataset.csv')\n",
    "df.head()"
   ]
  },
  {
   "cell_type": "code",
   "execution_count": 3,
   "metadata": {},
   "outputs": [
    {
     "data": {
      "text/html": [
       "<div>\n",
       "<style scoped>\n",
       "    .dataframe tbody tr th:only-of-type {\n",
       "        vertical-align: middle;\n",
       "    }\n",
       "\n",
       "    .dataframe tbody tr th {\n",
       "        vertical-align: top;\n",
       "    }\n",
       "\n",
       "    .dataframe thead th {\n",
       "        text-align: right;\n",
       "    }\n",
       "</style>\n",
       "<table border=\"1\" class=\"dataframe\">\n",
       "  <thead>\n",
       "    <tr style=\"text-align: right;\">\n",
       "      <th></th>\n",
       "      <th>Age</th>\n",
       "      <th>Billing Amount</th>\n",
       "      <th>Room Number</th>\n",
       "    </tr>\n",
       "  </thead>\n",
       "  <tbody>\n",
       "    <tr>\n",
       "      <th>count</th>\n",
       "      <td>10000.000000</td>\n",
       "      <td>10000.000000</td>\n",
       "      <td>10000.000000</td>\n",
       "    </tr>\n",
       "    <tr>\n",
       "      <th>mean</th>\n",
       "      <td>51.452200</td>\n",
       "      <td>25516.806778</td>\n",
       "      <td>300.082000</td>\n",
       "    </tr>\n",
       "    <tr>\n",
       "      <th>std</th>\n",
       "      <td>19.588974</td>\n",
       "      <td>14067.292709</td>\n",
       "      <td>115.806027</td>\n",
       "    </tr>\n",
       "    <tr>\n",
       "      <th>min</th>\n",
       "      <td>18.000000</td>\n",
       "      <td>1000.180837</td>\n",
       "      <td>101.000000</td>\n",
       "    </tr>\n",
       "    <tr>\n",
       "      <th>25%</th>\n",
       "      <td>35.000000</td>\n",
       "      <td>13506.523967</td>\n",
       "      <td>199.000000</td>\n",
       "    </tr>\n",
       "    <tr>\n",
       "      <th>50%</th>\n",
       "      <td>52.000000</td>\n",
       "      <td>25258.112566</td>\n",
       "      <td>299.000000</td>\n",
       "    </tr>\n",
       "    <tr>\n",
       "      <th>75%</th>\n",
       "      <td>68.000000</td>\n",
       "      <td>37733.913727</td>\n",
       "      <td>400.000000</td>\n",
       "    </tr>\n",
       "    <tr>\n",
       "      <th>max</th>\n",
       "      <td>85.000000</td>\n",
       "      <td>49995.902283</td>\n",
       "      <td>500.000000</td>\n",
       "    </tr>\n",
       "  </tbody>\n",
       "</table>\n",
       "</div>"
      ],
      "text/plain": [
       "                Age  Billing Amount   Room Number\n",
       "count  10000.000000    10000.000000  10000.000000\n",
       "mean      51.452200    25516.806778    300.082000\n",
       "std       19.588974    14067.292709    115.806027\n",
       "min       18.000000     1000.180837    101.000000\n",
       "25%       35.000000    13506.523967    199.000000\n",
       "50%       52.000000    25258.112566    299.000000\n",
       "75%       68.000000    37733.913727    400.000000\n",
       "max       85.000000    49995.902283    500.000000"
      ]
     },
     "execution_count": 3,
     "metadata": {},
     "output_type": "execute_result"
    }
   ],
   "source": [
    "df.describe()"
   ]
  },
  {
   "cell_type": "code",
   "execution_count": 4,
   "metadata": {},
   "outputs": [
    {
     "name": "stdout",
     "output_type": "stream",
     "text": [
      "<class 'pandas.core.frame.DataFrame'>\n",
      "RangeIndex: 10000 entries, 0 to 9999\n",
      "Data columns (total 15 columns):\n",
      " #   Column              Non-Null Count  Dtype  \n",
      "---  ------              --------------  -----  \n",
      " 0   Name                10000 non-null  object \n",
      " 1   Age                 10000 non-null  int64  \n",
      " 2   Gender              10000 non-null  object \n",
      " 3   Blood Type          10000 non-null  object \n",
      " 4   Medical Condition   10000 non-null  object \n",
      " 5   Date of Admission   10000 non-null  object \n",
      " 6   Doctor              10000 non-null  object \n",
      " 7   Hospital            10000 non-null  object \n",
      " 8   Insurance Provider  10000 non-null  object \n",
      " 9   Billing Amount      10000 non-null  float64\n",
      " 10  Room Number         10000 non-null  int64  \n",
      " 11  Admission Type      10000 non-null  object \n",
      " 12  Discharge Date      10000 non-null  object \n",
      " 13  Medication          10000 non-null  object \n",
      " 14  Test Results        10000 non-null  object \n",
      "dtypes: float64(1), int64(2), object(12)\n",
      "memory usage: 1.1+ MB\n"
     ]
    }
   ],
   "source": [
    "df.info()"
   ]
  },
  {
   "cell_type": "markdown",
   "metadata": {},
   "source": [
    "Ta sẽ chuyển các kiểu dữ liệu object về category"
   ]
  },
  {
   "cell_type": "code",
   "execution_count": 5,
   "metadata": {},
   "outputs": [
    {
     "name": "stdout",
     "output_type": "stream",
     "text": [
      "<class 'pandas.core.frame.DataFrame'>\n",
      "RangeIndex: 10000 entries, 0 to 9999\n",
      "Data columns (total 15 columns):\n",
      " #   Column              Non-Null Count  Dtype   \n",
      "---  ------              --------------  -----   \n",
      " 0   Name                10000 non-null  category\n",
      " 1   Age                 10000 non-null  int64   \n",
      " 2   Gender              10000 non-null  category\n",
      " 3   Blood Type          10000 non-null  category\n",
      " 4   Medical Condition   10000 non-null  category\n",
      " 5   Date of Admission   10000 non-null  category\n",
      " 6   Doctor              10000 non-null  category\n",
      " 7   Hospital            10000 non-null  category\n",
      " 8   Insurance Provider  10000 non-null  category\n",
      " 9   Billing Amount      10000 non-null  float64 \n",
      " 10  Room Number         10000 non-null  int64   \n",
      " 11  Admission Type      10000 non-null  category\n",
      " 12  Discharge Date      10000 non-null  category\n",
      " 13  Medication          10000 non-null  category\n",
      " 14  Test Results        10000 non-null  category\n",
      "dtypes: category(12), float64(1), int64(2)\n",
      "memory usage: 1.5 MB\n"
     ]
    }
   ],
   "source": [
    "features = [i for i in df.columns]\n",
    "features.remove(\"Age\")\n",
    "features.remove(\"Billing Amount\")\n",
    "features.remove(\"Room Number\")\n",
    "\n",
    "def convert_cat(df, features):\n",
    "  for feature in features:\n",
    "    df[feature] = df[feature].astype('category')\n",
    "\n",
    "convert_cat(df, features)\n",
    "df.info()"
   ]
  },
  {
   "cell_type": "code",
   "execution_count": 6,
   "metadata": {},
   "outputs": [
    {
     "data": {
      "text/html": [
       "<div>\n",
       "<style scoped>\n",
       "    .dataframe tbody tr th:only-of-type {\n",
       "        vertical-align: middle;\n",
       "    }\n",
       "\n",
       "    .dataframe tbody tr th {\n",
       "        vertical-align: top;\n",
       "    }\n",
       "\n",
       "    .dataframe thead th {\n",
       "        text-align: right;\n",
       "    }\n",
       "</style>\n",
       "<table border=\"1\" class=\"dataframe\">\n",
       "  <thead>\n",
       "    <tr style=\"text-align: right;\">\n",
       "      <th></th>\n",
       "      <th>Name</th>\n",
       "      <th>Gender</th>\n",
       "      <th>Blood Type</th>\n",
       "      <th>Medical Condition</th>\n",
       "      <th>Date of Admission</th>\n",
       "      <th>Doctor</th>\n",
       "      <th>Hospital</th>\n",
       "      <th>Insurance Provider</th>\n",
       "      <th>Admission Type</th>\n",
       "      <th>Discharge Date</th>\n",
       "      <th>Medication</th>\n",
       "      <th>Test Results</th>\n",
       "    </tr>\n",
       "  </thead>\n",
       "  <tbody>\n",
       "    <tr>\n",
       "      <th>count</th>\n",
       "      <td>10000</td>\n",
       "      <td>10000</td>\n",
       "      <td>10000</td>\n",
       "      <td>10000</td>\n",
       "      <td>10000</td>\n",
       "      <td>10000</td>\n",
       "      <td>10000</td>\n",
       "      <td>10000</td>\n",
       "      <td>10000</td>\n",
       "      <td>10000</td>\n",
       "      <td>10000</td>\n",
       "      <td>10000</td>\n",
       "    </tr>\n",
       "    <tr>\n",
       "      <th>unique</th>\n",
       "      <td>9378</td>\n",
       "      <td>2</td>\n",
       "      <td>8</td>\n",
       "      <td>6</td>\n",
       "      <td>1815</td>\n",
       "      <td>9416</td>\n",
       "      <td>8639</td>\n",
       "      <td>5</td>\n",
       "      <td>3</td>\n",
       "      <td>1834</td>\n",
       "      <td>5</td>\n",
       "      <td>3</td>\n",
       "    </tr>\n",
       "    <tr>\n",
       "      <th>top</th>\n",
       "      <td>Michael Johnson</td>\n",
       "      <td>Female</td>\n",
       "      <td>AB-</td>\n",
       "      <td>Asthma</td>\n",
       "      <td>2019-04-12</td>\n",
       "      <td>Michael Johnson</td>\n",
       "      <td>Smith PLC</td>\n",
       "      <td>Cigna</td>\n",
       "      <td>Urgent</td>\n",
       "      <td>2021-11-28</td>\n",
       "      <td>Penicillin</td>\n",
       "      <td>Abnormal</td>\n",
       "    </tr>\n",
       "    <tr>\n",
       "      <th>freq</th>\n",
       "      <td>7</td>\n",
       "      <td>5075</td>\n",
       "      <td>1275</td>\n",
       "      <td>1708</td>\n",
       "      <td>15</td>\n",
       "      <td>7</td>\n",
       "      <td>19</td>\n",
       "      <td>2040</td>\n",
       "      <td>3391</td>\n",
       "      <td>14</td>\n",
       "      <td>2079</td>\n",
       "      <td>3456</td>\n",
       "    </tr>\n",
       "  </tbody>\n",
       "</table>\n",
       "</div>"
      ],
      "text/plain": [
       "                   Name  Gender Blood Type Medical Condition  \\\n",
       "count             10000   10000      10000             10000   \n",
       "unique             9378       2          8                 6   \n",
       "top     Michael Johnson  Female        AB-            Asthma   \n",
       "freq                  7    5075       1275              1708   \n",
       "\n",
       "       Date of Admission           Doctor   Hospital Insurance Provider  \\\n",
       "count              10000            10000      10000              10000   \n",
       "unique              1815             9416       8639                  5   \n",
       "top           2019-04-12  Michael Johnson  Smith PLC              Cigna   \n",
       "freq                  15                7         19               2040   \n",
       "\n",
       "       Admission Type Discharge Date  Medication Test Results  \n",
       "count           10000          10000       10000        10000  \n",
       "unique              3           1834           5            3  \n",
       "top            Urgent     2021-11-28  Penicillin     Abnormal  \n",
       "freq             3391             14        2079         3456  "
      ]
     },
     "execution_count": 6,
     "metadata": {},
     "output_type": "execute_result"
    }
   ],
   "source": [
    "df.describe(include = ['category'])"
   ]
  },
  {
   "cell_type": "code",
   "execution_count": 7,
   "metadata": {},
   "outputs": [
    {
     "data": {
      "text/plain": [
       "Test Results\n",
       "Abnormal        3456\n",
       "Inconclusive    3277\n",
       "Normal          3267\n",
       "Name: count, dtype: int64"
      ]
     },
     "execution_count": 7,
     "metadata": {},
     "output_type": "execute_result"
    }
   ],
   "source": [
    "df['Test Results'].value_counts()"
   ]
  },
  {
   "cell_type": "code",
   "execution_count": 8,
   "metadata": {},
   "outputs": [
    {
     "data": {
      "text/html": [
       "<div>\n",
       "<style scoped>\n",
       "    .dataframe tbody tr th:only-of-type {\n",
       "        vertical-align: middle;\n",
       "    }\n",
       "\n",
       "    .dataframe tbody tr th {\n",
       "        vertical-align: top;\n",
       "    }\n",
       "\n",
       "    .dataframe thead th {\n",
       "        text-align: right;\n",
       "    }\n",
       "</style>\n",
       "<table border=\"1\" class=\"dataframe\">\n",
       "  <thead>\n",
       "    <tr style=\"text-align: right;\">\n",
       "      <th></th>\n",
       "      <th>proportion</th>\n",
       "    </tr>\n",
       "    <tr>\n",
       "      <th>Test Results</th>\n",
       "      <th></th>\n",
       "    </tr>\n",
       "  </thead>\n",
       "  <tbody>\n",
       "    <tr>\n",
       "      <th>Abnormal</th>\n",
       "      <td>0.3456</td>\n",
       "    </tr>\n",
       "    <tr>\n",
       "      <th>Inconclusive</th>\n",
       "      <td>0.3277</td>\n",
       "    </tr>\n",
       "    <tr>\n",
       "      <th>Normal</th>\n",
       "      <td>0.3267</td>\n",
       "    </tr>\n",
       "  </tbody>\n",
       "</table>\n",
       "</div>"
      ],
      "text/plain": [
       "              proportion\n",
       "Test Results            \n",
       "Abnormal          0.3456\n",
       "Inconclusive      0.3277\n",
       "Normal            0.3267"
      ]
     },
     "execution_count": 8,
     "metadata": {},
     "output_type": "execute_result"
    }
   ],
   "source": [
    "df['Test Results'].value_counts(normalize=True).to_frame()"
   ]
  },
  {
   "cell_type": "code",
   "execution_count": 9,
   "metadata": {},
   "outputs": [
    {
     "data": {
      "text/plain": [
       "<Axes: xlabel='Test Results', ylabel='count'>"
      ]
     },
     "execution_count": 9,
     "metadata": {},
     "output_type": "execute_result"
    },
    {
     "data": {
      "image/png": "[encoded data removed]",
      "text/plain": [
       "<Figure size 640x480 with 1 Axes>"
      ]
     },
     "metadata": {},
     "output_type": "display_data"
    }
   ],
   "source": [
    "sns.countplot(df, x = 'Test Results')"
   ]
  },
  {
   "cell_type": "code",
   "execution_count": 10,
   "metadata": {},
   "outputs": [
    {
     "data": {
      "text/plain": [
       "<Axes: xlabel='Gender', ylabel='count'>"
      ]
     },
     "execution_count": 10,
     "metadata": {},
     "output_type": "execute_result"
    },
    {
     "data": {
      "image/png": "[encoded data removed]",
      "text/plain": [
       "<Figure size 640x480 with 1 Axes>"
      ]
     },
     "metadata": {},
     "output_type": "display_data"
    }
   ],
   "source": [
    "# Ta vẽ các biểu đồ tương tự với các kiểu category khác\n",
    "sns.countplot(df, x = 'Gender')"
   ]
  },
  {
   "cell_type": "code",
   "execution_count": 11,
   "metadata": {},
   "outputs": [
    {
     "data": {
      "text/plain": [
       "<Axes: xlabel='Blood Type', ylabel='count'>"
      ]
     },
     "execution_count": 11,
     "metadata": {},
     "output_type": "execute_result"
    },
    {
     "data": {
      "image/png": "[encoded data removed]",
      "text/plain": [
       "<Figure size 640x480 with 1 Axes>"
      ]
     },
     "metadata": {},
     "output_type": "display_data"
    }
   ],
   "source": [
    "sns.countplot(df, x=\"Blood Type\")"
   ]
  },
  {
   "cell_type": "code",
   "execution_count": 12,
   "metadata": {},
   "outputs": [
    {
     "data": {
      "text/plain": [
       "<Axes: xlabel='Medical Condition', ylabel='count'>"
      ]
     },
     "execution_count": 12,
     "metadata": {},
     "output_type": "execute_result"
    },
    {
     "data": {
      "image/png": "[encoded data removed]",
      "text/plain": [
       "<Figure size 640x480 with 1 Axes>"
      ]
     },
     "metadata": {},
     "output_type": "display_data"
    }
   ],
   "source": [
    "sns.countplot(df, x=\"Medical Condition\")"
   ]
  },
  {
   "cell_type": "code",
   "execution_count": 14,
   "metadata": {},
   "outputs": [
    {
     "data": {
      "text/plain": [
       "<Axes: xlabel='Admission Type', ylabel='count'>"
      ]
     },
     "execution_count": 14,
     "metadata": {},
     "output_type": "execute_result"
    },
    {
     "data": {
      "image/png": "[encoded data removed]",
      "text/plain": [
       "<Figure size 640x480 with 1 Axes>"
      ]
     },
     "metadata": {},
     "output_type": "display_data"
    }
   ],
   "source": [
    "sns.countplot(df, x=\"Admission Type\")"
   ]
  },
  {
   "cell_type": "code",
   "execution_count": 15,
   "metadata": {},
   "outputs": [
    {
     "data": {
      "text/plain": [
       "<Axes: xlabel='Medication', ylabel='count'>"
      ]
     },
     "execution_count": 15,
     "metadata": {},
     "output_type": "execute_result"
    },
    {
     "data": {
      "image/png": "[encoded data removed]",
      "text/plain": [
       "<Figure size 640x480 with 1 Axes>"
      ]
     },
     "metadata": {},
     "output_type": "display_data"
    }
   ],
   "source": [
    "sns.countplot(df, x=\"Medication\")"
   ]
  },
  {
   "cell_type": "code",
   "execution_count": null,
   "metadata": {},
   "outputs": [],
   "source": []
  }
 ],
 "metadata": {
  "kernelspec": {
   "display_name": "Python 3",
   "language": "python",
   "name": "python3"
  },
  "language_info": {
   "codemirror_mode": {
    "name": "ipython",
    "version": 3
   },
   "file_extension": ".py",
   "mimetype": "text/x-python",
   "name": "python",
   "nbconvert_exporter": "python",
   "pygments_lexer": "ipython3",
   "version": "3.10.5"
  }
 },
 "nbformat": 4,
 "nbformat_minor": 2
}
